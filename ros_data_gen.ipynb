{
 "cells": [
  {
   "cell_type": "code",
   "execution_count": 54,
   "metadata": {},
   "outputs": [
    {
     "name": "stdout",
     "output_type": "stream",
     "text": [
      "The autoreload extension is already loaded. To reload it, use:\n",
      "  %reload_ext autoreload\n"
     ]
    }
   ],
   "source": [
    "%load_ext autoreload\n",
    "%autoreload 2\n",
    "\n",
    "import rosbag\n",
    "import rospy\n",
    "import os\n",
    "import glob\n",
    "import cv2\n",
    "import pickle \n",
    "import numpy as np\n",
    "import matplotlib.pyplot as plt\n",
    "import json\n",
    "from cv_bridge import CvBridge\n",
    "import tf.transformations as tftr\n",
    "from matplotlib import cm\n",
    "from matplotlib.colors import Normalize\n",
    "from matplotlib.cm import ScalarMappable, get_cmap\n",
    "from sonar_img_utilities import draw_sonar_msg, find_nearest"
   ]
  },
  {
   "cell_type": "code",
   "execution_count": 64,
   "metadata": {},
   "outputs": [],
   "source": [
    "save_loc = \"/home/marc/Documents/neusis/data/test_data\"\n",
    "cfg_file = os.path.join(save_loc, \"Config.json\")\n",
    "sim_bag = \"/home/marc/Documents/sonar_reconstruction/bagfiles/sim_sonar.bag\"\n",
    "\n",
    "cfg_dict = {\"name\": \"SimImagingSonar\", \n",
    "            \"agents\":[\n",
    "    {\n",
    "    \"agent_name\": \"auv0\", \n",
    "     \"agent_type\": \"HoveringAUV\", \n",
    "     \"sensors\": \n",
    "        [{\n",
    "        \"sensor_type\": \"ImagingSonar\", \n",
    "        \"configuration\": {}\n",
    "        }]\n",
    "    }\n",
    "        ]}\n",
    "\n",
    "json_object = json.dumps(cfg_dict)\n",
    "with open(cfg_file, \"w\") as outfile:\n",
    "    outfile.write(json_object) "
   ]
  },
  {
   "cell_type": "code",
   "execution_count": 65,
   "metadata": {},
   "outputs": [
    {
     "name": "stderr",
     "output_type": "stream",
     "text": [
      "/home/marc/miniconda3/envs/neusis/lib/python3.7/site-packages/ipykernel_launcher.py:12: VisibleDeprecationWarning: Creating an ndarray from ragged nested sequences (which is a list-or-tuple of lists-or-tuples-or ndarrays with different lengths or shapes) is deprecated. If you meant to do this, you must specify 'dtype=object' when creating the ndarray\n",
      "  if sys.path[0] == '':\n"
     ]
    }
   ],
   "source": [
    "tf_topic = \"/tf\"\n",
    "bag = rosbag.Bag(open(sim_bag, \"rb\"))\n",
    "\n",
    "tf_array = []\n",
    "for topic, msg, tt in bag.read_messages(tf_topic):\n",
    "        tfs = msg.transforms[0]\n",
    "        translation = [tfs.transform.translation.x, tfs.transform.translation.y, tfs.transform.translation.z]\n",
    "        rotation = [tfs.transform.rotation.x, tfs.transform.rotation.y, tfs.transform.rotation.z, tfs.transform.rotation.w]\n",
    "        pose_matrix = tftr.compose_matrix(translate=translation, angles=tftr.euler_from_quaternion(rotation))\n",
    "        tf_array.append([tt.to_nsec(), pose_matrix])\n",
    "\n",
    "time_array = np.array(tf_array)[:, 0]"
   ]
  },
  {
   "cell_type": "code",
   "execution_count": 72,
   "metadata": {},
   "outputs": [
    {
     "name": "stdout",
     "output_type": "stream",
     "text": [
      "wrote file\n",
      "Wrote 00621.pkl\r"
     ]
    }
   ],
   "source": [
    "sonar_topic = \"/sim_oculus/oculus/sonar_image\"\n",
    "bridge = CvBridge()\n",
    "bag = rosbag.Bag(open(sim_bag, \"rb\"))\n",
    "\n",
    "cfg_file_flag = False\n",
    "\n",
    "cnt = 0\n",
    "for topic, msg, tt in bag.read_messages(sonar_topic):\n",
    "    if not cfg_file_flag:\n",
    "        with open(cfg_file, 'r') as openfile:\n",
    "                # Reading from json file\n",
    "                cfg = json.load(openfile)\n",
    "        d = {}\n",
    "        d[\"RangeBins\"] = len(msg.ranges)\n",
    "        d[\"AzimuthBins\"] = len(msg.azimuth_angles)\n",
    "        d[\"RangeMin\"] = min(msg.ranges)\n",
    "        d[\"RangeMax\"] = max(msg.ranges)\n",
    "        d[\"Elevation\"] = np.rad2deg(msg.elevation_beamwidth)\n",
    "        d[\"Azimuth\"] = np.rad2deg(max(msg.azimuth_angles))\n",
    "        cfg['agents'][0]['sensors'][0]['configuration'] = d\n",
    "        json_object = json.dumps(cfg)\n",
    "        with open(cfg_file, \"w\") as outfile:\n",
    "                outfile.write(json_object)\n",
    "\n",
    "        \n",
    "        cfg_file_flag = True\n",
    "        print('wrote file')\n",
    "\n",
    "    msg_dict = {}\n",
    "    sonar_img, ranges, angles = draw_sonar_msg(msg, return_processed=False, trim=False)\n",
    "    sonar_img = sonar_img.astype(np.uint32)\n",
    "    msg_dict[\"ImagingSonar\"] = sonar_img\n",
    "\n",
    "    # find closest pose in time:\n",
    "    val, idx = find_nearest(time_array, tt.to_nsec())\n",
    "    pose = tf_array[idx][1]\n",
    "    msg_dict[\"PoseSensor\"] = pose\n",
    "\n",
    "    fname = f\"{str(cnt).zfill(5)}.pkl\"\n",
    "    full_fname = os.path.join(save_loc, \"Data\", fname)\n",
    "    with open(full_fname, 'wb') as handle:\n",
    "        pickle.dump(msg_dict, handle, protocol=pickle.HIGHEST_PROTOCOL)\n",
    "\n",
    "\n",
    "    cnt += 1\n",
    "    print(f\"Wrote {fname}\", end='\\r')"
   ]
  }
 ],
 "metadata": {
  "kernelspec": {
   "display_name": "sonar_ros",
   "language": "python",
   "name": "python3"
  },
  "language_info": {
   "codemirror_mode": {
    "name": "ipython",
    "version": 3
   },
   "file_extension": ".py",
   "mimetype": "text/x-python",
   "name": "python",
   "nbconvert_exporter": "python",
   "pygments_lexer": "ipython3",
   "version": "3.7.16"
  },
  "orig_nbformat": 4
 },
 "nbformat": 4,
 "nbformat_minor": 2
}
