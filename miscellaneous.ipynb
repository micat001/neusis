{
 "cells": [
  {
   "cell_type": "code",
   "execution_count": 5,
   "metadata": {},
   "outputs": [],
   "source": [
    "# import sys\n",
    "# sys.path.append(\"..\")\n",
    "%load_ext autoreload\n",
    "%autoreload 2\n",
    "from load_data import *\n",
    "import numpy as np\n",
    "import matplotlib.pyplot as plt"
   ]
  },
  {
   "cell_type": "code",
   "execution_count": 10,
   "metadata": {},
   "outputs": [],
   "source": [
    "data_path = \"test_data\"\n",
    "data = load_data(data_path)"
   ]
  },
  {
   "cell_type": "code",
   "execution_count": 11,
   "metadata": {},
   "outputs": [
    {
     "name": "stdout",
     "output_type": "stream",
     "text": [
      "images\n"
     ]
    }
   ],
   "source": [
    "for k, v in data.items():\n",
    "    print(k)\n",
    "    poses = data['sensor_poses']\n",
    "    break"
   ]
  },
  {
   "cell_type": "code",
   "execution_count": 22,
   "metadata": {},
   "outputs": [
    {
     "name": "stdout",
     "output_type": "stream",
     "text": [
      "(708, 512)\n"
     ]
    }
   ],
   "source": [
    "pickle_loc = \"/home/marc/Documents/neusis/data/test_data/Data\"\n",
    "for pkls in os.listdir(pickle_loc):\n",
    "    filename = os.path.join(pickle_loc, pkls)\n",
    "    with open(filename, 'rb') as f:\n",
    "        state = pickle.load(f)\n",
    "        image = state[\"ImagingSonar\"]\n",
    "        s = image.shape\n",
    "        print(s)\n",
    "        image[image < 0.2] = 0\n",
    "        image[s[0]- 200:, :] = 0\n",
    "        pose = state[\"PoseSensor\"]\n",
    "        break"
   ]
  }
 ],
 "metadata": {
  "interpreter": {
   "hash": "44ba326a03d08e658321e182feb5d1cfd0b94e109daed681bf32542f6b9a47f2"
  },
  "kernelspec": {
   "display_name": "Python 3.7.16 ('neusis')",
   "language": "python",
   "name": "python3"
  },
  "language_info": {
   "codemirror_mode": {
    "name": "ipython",
    "version": 3
   },
   "file_extension": ".py",
   "mimetype": "text/x-python",
   "name": "python",
   "nbconvert_exporter": "python",
   "pygments_lexer": "ipython3",
   "version": "3.7.16"
  },
  "orig_nbformat": 4
 },
 "nbformat": 4,
 "nbformat_minor": 2
}
